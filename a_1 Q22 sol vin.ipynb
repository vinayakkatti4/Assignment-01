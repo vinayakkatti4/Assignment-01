{
 "cells": [
  {
   "cell_type": "code",
   "execution_count": 5,
   "id": "1a657f4c",
   "metadata": {
    "ExecuteTime": {
     "end_time": "2022-12-15T20:14:54.100952Z",
     "start_time": "2022-12-15T20:14:54.088804Z"
    }
   },
   "outputs": [],
   "source": [
    "from scipy import stats"
   ]
  },
  {
   "cell_type": "code",
   "execution_count": 6,
   "id": "a2c95dce",
   "metadata": {
    "ExecuteTime": {
     "end_time": "2022-12-15T20:14:57.329364Z",
     "start_time": "2022-12-15T20:14:57.306243Z"
    }
   },
   "outputs": [
    {
     "data": {
      "text/plain": [
       "1.6448536269514722"
      ]
     },
     "execution_count": 6,
     "metadata": {},
     "output_type": "execute_result"
    }
   ],
   "source": [
    "# Z-score of 90% confidence interval \n",
    "stats.norm.ppf(0.95)"
   ]
  },
  {
   "cell_type": "code",
   "execution_count": 7,
   "id": "cb2b39f7",
   "metadata": {
    "ExecuteTime": {
     "end_time": "2022-12-15T20:15:00.229855Z",
     "start_time": "2022-12-15T20:15:00.216529Z"
    }
   },
   "outputs": [
    {
     "data": {
      "text/plain": [
       "1.8807936081512509"
      ]
     },
     "execution_count": 7,
     "metadata": {},
     "output_type": "execute_result"
    }
   ],
   "source": [
    "# Z-score of 94% confidence interval\n",
    "stats.norm.ppf(0.97)"
   ]
  },
  {
   "cell_type": "code",
   "execution_count": 8,
   "id": "e40c0eb9",
   "metadata": {
    "ExecuteTime": {
     "end_time": "2022-12-15T20:15:04.182475Z",
     "start_time": "2022-12-15T20:15:04.156343Z"
    }
   },
   "outputs": [
    {
     "data": {
      "text/plain": [
       "0.8416212335729143"
      ]
     },
     "execution_count": 8,
     "metadata": {},
     "output_type": "execute_result"
    }
   ],
   "source": [
    "# Z-score of 60% confidence interval\n",
    "stats.norm.ppf(0.8)"
   ]
  },
  {
   "cell_type": "code",
   "execution_count": null,
   "id": "5e321b01",
   "metadata": {},
   "outputs": [],
   "source": []
  }
 ],
 "metadata": {
  "kernelspec": {
   "display_name": "Python 3 (ipykernel)",
   "language": "python",
   "name": "python3"
  },
  "language_info": {
   "codemirror_mode": {
    "name": "ipython",
    "version": 3
   },
   "file_extension": ".py",
   "mimetype": "text/x-python",
   "name": "python",
   "nbconvert_exporter": "python",
   "pygments_lexer": "ipython3",
   "version": "3.9.13"
  }
 },
 "nbformat": 4,
 "nbformat_minor": 5
}
